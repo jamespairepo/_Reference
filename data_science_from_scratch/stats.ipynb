{
 "cells": [
  {
   "cell_type": "code",
   "execution_count": 12,
   "metadata": {},
   "outputs": [],
   "source": [
    "from collections import Counter\n",
    "from linear_algebra import sum_of_squares, dot\n",
    "import math\n",
    "import matplotlib.pyplot as plt"
   ]
  },
  {
   "cell_type": "code",
   "execution_count": 13,
   "metadata": {},
   "outputs": [],
   "source": [
    "num_friends = [100,49,41,40,25,21,21,19,19,18,18,16,15,15,15,15,14,14,13,13,13,13,12,12,11,10,10,10,10,10,10,10,10,10,10,10,10,10,10,10,9,9,9,9,9,9,9,9,9,9,9,9,9,9,9,9,9,9,8,8,8,8,8,8,8,8,8,8,8,8,8,7,7,7,7,7,7,7,7,7,7,7,7,7,7,7,6,6,6,6,6,6,6,6,6,6,6,6,6,6,6,6,6,6,6,6,6,6,5,5,5,5,5,5,5,5,5,5,5,5,5,5,5,5,5,4,4,4,4,4,4,4,4,4,4,4,4,4,4,4,4,4,4,4,4,3,3,3,3,3,3,3,3,3,3,3,3,3,3,3,3,3,3,3,3,2,2,2,2,2,2,2,2,2,2,2,2,2,2,2,2,2,1,1,1,1,1,1,1,1,1,1,1,1,1,1,1,1,1,1,1,1,1,1]"
   ]
  },
  {
   "cell_type": "code",
   "execution_count": 14,
   "metadata": {},
   "outputs": [],
   "source": [
    "def make_friend_counts_histogram(plt):\n",
    "    friend_counts = Counter(num_friends)\n",
    "    xs = range(101)\n",
    "    ys = [friend_counts[x] for x in xs]\n",
    "    plt.bar(xs, ys)\n",
    "    plt.axis([0,101,0,25])\n",
    "    plt.title(\"Histogram of Friend Counts\")\n",
    "    plt.xlabel(\"# of friends\")\n",
    "    plt.ylabel(\"# of people\")\n",
    "    plt.show()"
   ]
  },
  {
   "cell_type": "code",
   "execution_count": 16,
   "metadata": {},
   "outputs": [
    {
     "data": {
      "image/png": "[encoded data removed]",
      "text/plain": [
       "<Figure size 640x480 with 1 Axes>"
      ]
     },
     "metadata": {},
     "output_type": "display_data"
    }
   ],
   "source": [
    "make_friend_counts_histogram(plt)"
   ]
  },
  {
   "cell_type": "code",
   "execution_count": 30,
   "metadata": {},
   "outputs": [],
   "source": [
    "def mean(x):\n",
    "    return sum(x) / len(x)\n",
    "\n",
    "def median(v):\n",
    "    \"\"\"finds the 'middle-most' value of v\"\"\"\n",
    "    n = len(v)\n",
    "    sorted_v = sorted(v)\n",
    "    midpoint = n // 2\n",
    "\n",
    "    if n % 2 == 1:\n",
    "        # if odd, return the middle value\n",
    "        return sorted_v[midpoint]\n",
    "    else:\n",
    "        # if even, return the average of the middle values\n",
    "        lo = midpoint - 1\n",
    "        hi = midpoint\n",
    "        return (sorted_v[lo] + sorted_v[hi]) / 2\n",
    "\n",
    "def quantile(x, p):\n",
    "    \"\"\"returns the pth-percentile value in x\"\"\"\n",
    "    p_index = int(p * len(x))\n",
    "    return sorted(x)[p_index]\n",
    "\n",
    "def mode(x):\n",
    "    \"\"\"returns a list, might be more than one mode\"\"\"\n",
    "    counts = Counter(x)\n",
    "    max_count = max(counts.values())\n",
    "    return [x_i for x_i, count in counts.items()\n",
    "            if count == max_count]"
   ]
  },
  {
   "cell_type": "code",
   "execution_count": 34,
   "metadata": {},
   "outputs": [
    {
     "name": "stdout",
     "output_type": "stream",
     "text": [
      "num_points 204\n",
      "largest value 100\n",
      "smallest value 1\n",
      "second_smallest_value 1\n",
      "second_largest_value 49\n"
     ]
    }
   ],
   "source": [
    "print(\"num_points\", len(num_friends))\n",
    "print(\"largest value\", max(num_friends))\n",
    "print(\"smallest value\", min(num_friends))\n",
    "sorted_values = sorted(num_friends)\n",
    "print(\"second_smallest_value\", sorted_values[1])\n",
    "print(\"second_largest_value\", sorted_values[-2])"
   ]
  },
  {
   "cell_type": "code",
   "execution_count": 35,
   "metadata": {},
   "outputs": [
    {
     "name": "stdout",
     "output_type": "stream",
     "text": [
      "mean  7.333333333333333\n",
      "median  6.0\n",
      "mode  [6, 1]\n"
     ]
    }
   ],
   "source": [
    "print('mean ', mean(num_friends))\n",
    "print('median ', median(num_friends))\n",
    "print('mode ', mode(num_friends))"
   ]
  },
  {
   "cell_type": "code",
   "execution_count": 36,
   "metadata": {},
   "outputs": [
    {
     "name": "stdout",
     "output_type": "stream",
     "text": [
      "quantile(num_friends, 0.10) 1\n",
      "quantile(num_friends, 0.25) 3\n",
      "quantile(num_friends, 0.75) 9\n",
      "quantile(num_friends, 0.90) 13\n"
     ]
    }
   ],
   "source": [
    "print(\"quantile(num_friends, 0.10)\", quantile(num_friends, 0.10))\n",
    "print(\"quantile(num_friends, 0.25)\", quantile(num_friends, 0.25))\n",
    "print(\"quantile(num_friends, 0.75)\", quantile(num_friends, 0.75))\n",
    "print(\"quantile(num_friends, 0.90)\", quantile(num_friends, 0.90))"
   ]
  },
  {
   "cell_type": "code",
   "execution_count": null,
   "metadata": {},
   "outputs": [],
   "source": []
  }
 ],
 "metadata": {
  "kernelspec": {
   "display_name": "Python 3",
   "language": "python",
   "name": "python3"
  },
  "language_info": {
   "codemirror_mode": {
    "name": "ipython",
    "version": 3
   },
   "file_extension": ".py",
   "mimetype": "text/x-python",
   "name": "python",
   "nbconvert_exporter": "python",
   "pygments_lexer": "ipython3",
   "version": "3.11.8"
  }
 },
 "nbformat": 4,
 "nbformat_minor": 2
}
